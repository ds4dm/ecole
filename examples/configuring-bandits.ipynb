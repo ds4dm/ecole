{
 "cells": [
  {
   "cell_type": "markdown",
   "metadata": {},
   "source": [
    "# Solver configuration as a bandit problem\n",
    "\n",
    "In this tutorial we are interested in minimizing the expected branch-and-bound tree size of the SCIP solver by tuning the parameter [`branching/scorefac`](https://www.scipopt.org/doc/html/PARAMETERS.php), which takes values in the range $[0,1]$. This parameter, used in combination with the sum score function (`branching/scorefunc=s`), controls the weighting of downward and upward gain predictions in the computation of branching scores. It has a default value of 0.167.\n",
    "\n",
    "Required third-party libraries (and exact version used in the tutorial):\n",
    " - numpy (1.19.2)\n",
    " - matplotlib (3.3.2)\n",
    " - scikit-optimize (0.8.1)\n",
    "\n",
    "Ecole / Python version:\n",
    " - python (3.8.6)\n",
    " - Ecole (0.4.3)\n",
    "\n",
    "## 1. Setting up the Ecole environment\n",
    "\n",
    "We formulate this parameter tuning task as a continuum-armed bandit problem, which we instantiate using a [`Configuring`](https://doc.ecole.ai/master/reference/environments.html#configuring) environment. We request no observation (non-contextual bandit), and use the negative number of nodes as a reward (tree size minimization)."
   ]
  },
  {
   "cell_type": "code",
   "execution_count": 1,
   "metadata": {},
   "outputs": [],
   "source": [
    "import ecole as ec\n",
    "\n",
    "env = ec.environment.Configuring(\n",
    "\n",
    "    # set up a few SCIP parameters\n",
    "    scip_params={\n",
    "        \"branching/scorefunc\": 's',  # sum score function\n",
    "        \"branching/vanillafullstrong/priority\": 666666,  # use vanillafullstrong (highest priority)\n",
    "        \"presolving/maxrounds\": 0,  # deactivate presolving\n",
    "    },\n",
    "\n",
    "    # pure bandit, no observation\n",
    "    observation_function=None,\n",
    "\n",
    "    # minimize the total number of nodes\n",
    "    reward_function=-ec.reward.NNodes(),\n",
    "\n",
    "    # collect additional metrics for information purposes\n",
    "    information_function={\n",
    "        'nnodes': ec.reward.NNodes().cumsum(),\n",
    "        'lpiters': ec.reward.LpIterations().cumsum(),\n",
    "        'time': ec.reward.SolvingTime().cumsum(),\n",
    "    }\n",
    ")"
   ]
  },
  {
   "cell_type": "markdown",
   "metadata": {},
   "source": [
    "We set up SCIP to use the sum score function for branching (`branching/scorefunc=s`), and the *vanillafullstrong* branching rule to mitigate the impact of branching heuristics (`branching/vanillafullstrong/priority=666666`). For the purpose of the tutorial we also deactivate presolving (`presolving/maxrounds=0`) in order to reduce computational time."
   ]
  },
  {
   "cell_type": "markdown",
   "metadata": {},
   "source": [
    "## 2. Setting up the training distribution\n",
    "\n",
    "For the purpose of this tutorial we will consider randomly generated Combinatorial Auction problems, as the problem distribution for which we want to configure the solver. We hence set up a `CombinatorialAuctionGenerator` that will generate such instances on the fly."
   ]
  },
  {
   "cell_type": "code",
   "execution_count": 2,
   "metadata": {},
   "outputs": [],
   "source": [
    "# infinite instance generator, new instances will be generated on-the-fly\n",
    "instances = ec.instance.CombinatorialAuctionGenerator(\n",
    "    n_items=100, n_bids=100, add_item_prob=0.7)"
   ]
  },
  {
   "cell_type": "markdown",
   "metadata": {},
   "source": [
    "For training we consider small-sized instances ($100\\times 100$), which are solved within seconds by SCIP but are difficult enough to produce tens of branch-and-bound nodes."
   ]
  },
  {
   "cell_type": "markdown",
   "metadata": {},
   "source": [
    "## 3. Solving the control problem\n",
    "\n",
    "We can now readily solve the optimization problem using an off-the-shelf optimization library, such as `scikit-optimize`."
   ]
  },
  {
   "cell_type": "code",
   "execution_count": 3,
   "metadata": {},
   "outputs": [
    {
     "name": "stdout",
     "output_type": "stream",
     "text": [
      "iteration 10 / 100\n",
      "iteration 20 / 100\n",
      "iteration 30 / 100\n",
      "iteration 40 / 100\n",
      "iteration 50 / 100\n",
      "iteration 60 / 100\n",
      "iteration 70 / 100\n",
      "iteration 80 / 100\n",
      "iteration 90 / 100\n",
      "iteration 100 / 100\n"
     ]
    }
   ],
   "source": [
    "import skopt\n",
    "import numpy as np\n",
    "\n",
    "# change those values as desired\n",
    "n_iters = 100\n",
    "n_burnins = 10\n",
    "\n",
    "# make the training process deterministic\n",
    "seed = 42\n",
    "\n",
    "env.seed(seed)  # environment (SCIP)\n",
    "instances.seed(seed)  # instance generator\n",
    "rng = np.random.RandomState(seed)  # optimizer\n",
    "\n",
    "# set up the optimizer\n",
    "opt = skopt.Optimizer(\n",
    "    dimensions=[(0.0, 1.0)], base_estimator=\"GP\", n_initial_points=n_burnins, random_state=rng,\n",
    "    acq_func=\"PI\", acq_optimizer=\"sampling\", acq_optimizer_kwargs={'n_points': 10})\n",
    "\n",
    "assert n_iters > n_burnins\n",
    "\n",
    "# run the optimization\n",
    "for i in range(n_iters):\n",
    "\n",
    "    if (i+1) % 10 == 0:\n",
    "        print(f\"iteration {i+1} / {n_iters}\")\n",
    "\n",
    "    # pick up a new random instance\n",
    "    instance = next(instances)\n",
    "\n",
    "    # start a new episode\n",
    "    env.reset(instance)\n",
    "\n",
    "    # get the next action from the optimizer\n",
    "    x = opt.ask()\n",
    "    action = {\"branching/scorefac\": x[0]}\n",
    "\n",
    "    # apply the action and collect the reward\n",
    "    _, _, reward, _, _ = env.step(action)\n",
    "\n",
    "    # update the optimizer\n",
    "    opt.tell(x, -reward)  # minimize the negated reward (eq. maximize the reward)"
   ]
  },
  {
   "cell_type": "markdown",
   "metadata": {},
   "source": [
    "We can now visualize the result of the optimization process."
   ]
  },
  {
   "cell_type": "code",
   "execution_count": 4,
   "metadata": {},
   "outputs": [
    {
     "data": {
      "image/png": "[encoded data removed]",
      "text/plain": [
       "<Figure size 432x288 with 2 Axes>"
      ]
     },
     "metadata": {
      "needs_background": "light"
     },
     "output_type": "display_data"
    },
    {
     "name": "stdout",
     "output_type": "stream",
     "text": [
      "Best parameter value: branching/scorefac = 0.028056112224448895\n"
     ]
    }
   ],
   "source": [
    "import matplotlib.pyplot as plt\n",
    "import numpy as np\n",
    "\n",
    "model = opt.models[-1]\n",
    "\n",
    "x = np.linspace(0, 1, 500)\n",
    "x_model = opt.space.transform(x.reshape(-1, 1).tolist())\n",
    "\n",
    "fig, ax1 = plt.subplots()\n",
    "\n",
    "# points sampled during optimization\n",
    "lns1 = ax1.plot(opt.Xi, opt.yi, \"r.\", markersize=8, label=\"Collected data\")\n",
    "\n",
    "# value function estimation\n",
    "y_mean, y_std = model.predict(x_model, return_std=True)\n",
    "lns2 = ax1.plot(x, y_mean, \"g--\", label=r\"Value function\")\n",
    "ax1.fill_between(x, y_mean - 1.6 * y_std, y_mean + 1.6 * y_std,\n",
    "                 alpha=0.2, fc=\"g\", ec=\"None\")\n",
    "\n",
    "# probability of improvement estimation\n",
    "x_pi = skopt.acquisition.gaussian_pi(x_model, model, y_opt=np.min(opt.yi))\n",
    "ax2 = ax1.twinx()\n",
    "lns3 = ax2.plot(x, x_pi, \"b\", label=\"Prob. of improvement\")\n",
    "\n",
    "ax1.set_title(f\"Model obtained after {n_iters} iterations\")\n",
    "ax1.set_ylabel(f\"number of nodes (neg. reward)\")\n",
    "ax1.set_xlabel(f\"$branching/scorefac$ parameter value (action)\")\n",
    "\n",
    "ax2.set_ylabel(f\"Probability value\")\n",
    "\n",
    "# Legend\n",
    "lns = lns1+lns2+lns3\n",
    "labs = [l.get_label() for l in lns]\n",
    "ax1.legend(lns, labs, loc='upper center')\n",
    "\n",
    "plt.show()\n",
    "\n",
    "# get best value based on a grid search on the value function estimator\n",
    "best_value = x[np.argmin(y_mean)]\n",
    "print(f\"Best parameter value: branching/scorefac = {best_value}\")"
   ]
  },
  {
   "cell_type": "markdown",
   "metadata": {},
   "source": [
    "## 4. Evaluation on harder instances"
   ]
  },
  {
   "cell_type": "code",
   "execution_count": 5,
   "metadata": {},
   "outputs": [
    {
     "name": "stdout",
     "output_type": "stream",
     "text": [
      "evaluating policy 'default'\n",
      "  instance 1: 237.0 nodes, 31245.0 lpiters, 90.493822 secs\n",
      "  instance 2: 129.0 nodes, 20839.0 lpiters, 51.530046 secs\n",
      "  instance 3: 85.0 nodes, 14522.0 lpiters, 30.396824000000002 secs\n",
      "  instance 4: 560.0 nodes, 61774.0 lpiters, 210.235129 secs\n",
      "  instance 5: 107.0 nodes, 16027.0 lpiters, 33.757798 secs\n",
      "  average performance: 223.6 nodes\n",
      "evaluating policy 'learned'\n",
      "  instance 1: 93.0 nodes, 16653.0 lpiters, 28.789144 secs\n",
      "  instance 2: 68.0 nodes, 13572.0 lpiters, 24.144271999999997 secs\n",
      "  instance 3: 72.0 nodes, 13019.0 lpiters, 20.179329 secs\n",
      "  instance 4: 135.0 nodes, 19150.0 lpiters, 50.97015 secs\n",
      "  instance 5: 58.0 nodes, 9649.0 lpiters, 15.742714000000001 secs\n",
      "  average performance: 85.2 nodes\n"
     ]
    }
   ],
   "source": [
    "# we set up more challenging instances\n",
    "test_instances = ec.instance.CombinatorialAuctionGenerator(\n",
    "    n_items=150, n_bids=750, add_item_prob=0.7)\n",
    "\n",
    "seed = 1337\n",
    "\n",
    "for policy in ('default', 'learned'):\n",
    "\n",
    "    print(f\"evaluating policy '{policy}'\")\n",
    "    results = []\n",
    "\n",
    "    for i in range(5):\n",
    "\n",
    "        # evaluate each policy in the exact same settings\n",
    "        env.seed(seed+i)  # environment (SCIP)\n",
    "        test_instances.seed(seed+i)  # instance generator\n",
    "\n",
    "        # pick up the next instance\n",
    "        instance = next(test_instances)\n",
    "\n",
    "        # set up the episode initial state\n",
    "        env.reset(instance)\n",
    "\n",
    "        # get the action from the policy\n",
    "        if policy == 'default':\n",
    "            action = {}  # will use the default value from SCIP\n",
    "        else:\n",
    "            action = {\"branching/scorefac\": best_value}\n",
    "\n",
    "        # apply the action and collect the reward\n",
    "        _, _, _, _, info = env.step(action)\n",
    "\n",
    "        print(f\"  instance {i+1}: {info['nnodes']} nodes, {info['lpiters']} lpiters, {info['time']} secs\")\n",
    "\n",
    "        results.append(info['nnodes'])\n",
    "\n",
    "    print(f\"  average performance: {np.mean(results)} nodes\")"
   ]
  }
 ],
 "metadata": {
  "kernelspec": {
   "display_name": "Python 3",
   "language": "python",
   "name": "python3"
  },
  "language_info": {
   "codemirror_mode": {
    "name": "ipython",
    "version": 3
   },
   "file_extension": ".py",
   "mimetype": "text/x-python",
   "name": "python",
   "nbconvert_exporter": "python",
   "pygments_lexer": "ipython3",
   "version": "3.8.6"
  }
 },
 "nbformat": 4,
 "nbformat_minor": 4
}
